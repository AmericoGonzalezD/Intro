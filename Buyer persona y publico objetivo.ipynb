{
 "cells": [
  {
   "cell_type": "markdown",
   "metadata": {},
   "source": [
    "## Buyer persona\n",
    "\n",
    "Persona de 30 años responsable y que este familiarizado con las tecnología. Además, tiene una gran confianza en hacer transacciones por medio de internet. Tiene un problema legal que necesita resolverlo pero que no puede asistir a cada proceso de forma presencial. Sin embargo, necesita y esta interesado en el avance de su proceso legal. Es una persona que tiene 28 años que sabe cuando un problema debe ser resuelto de una forma legal y cuando no.\n",
    "\n",
    "Conoce sobre la reputación y el trabajo que realiza el cliente abogabot, ademas confia en el personal que labora en la empresa.\n",
    "\n",
    "## Publico objetivo\n",
    "\n",
    "Personas de la misma region donde el cliente abogabot tenga su sede y, por ende, tengan las mismas leyes constitucionales. Son personas que tienen un proceso legal que debe de pasar un por una revisión por un abogado. Es un grupo de personas que tiene una edad de entre los 20 - 40 años de edad. "
   ]
  }
 ],
 "metadata": {
  "language_info": {
   "name": "python"
  },
  "orig_nbformat": 4
 },
 "nbformat": 4,
 "nbformat_minor": 2
}
